{
 "cells": [
  {
   "cell_type": "code",
   "execution_count": 1,
   "metadata": {},
   "outputs": [],
   "source": [
    "from sklearn.preprocessing import PolynomialFeatures\n",
    "from sklearn.linear_model import LinearRegression\n",
    "from sklearn.pipeline import make_pipeline\n",
    "\n",
    "def polinomialRegression(degree=2, **kwargs):\n",
    "    return make_pipeline(PolynomialFeatures(degree),\n",
    "                         LinearRegression(**kwargs))"
   ]
  },
  {
   "cell_type": "code",
   "execution_count": 2,
   "metadata": {},
   "outputs": [],
   "source": [
    "import numpy as np\n",
    "\n",
    "def make_data(N, err=1.0, rseed=1):\n",
    "    # data data data\n",
    "    rng = np.random.RandomState(rseed)\n",
    "    X = rng.rand(N, 1) ** 2\n",
    "    y = 10 - 1. /(X.ravel() + 0.1)\n",
    "    if err > 0:\n",
    "        y += err * rng.randn(N)\n",
    "    return X, y"
   ]
  },
  {
   "cell_type": "code",
   "execution_count": 12,
   "metadata": {},
   "outputs": [],
   "source": [
    "X, y = make_data(40)"
   ]
  },
  {
   "cell_type": "code",
   "execution_count": 13,
   "metadata": {},
   "outputs": [
    {
     "data": {
      "text/plain": [
       "array([[1.73907352e-01],\n",
       "       [5.18867376e-01],\n",
       "       [1.30815988e-08],\n",
       "       [9.14049845e-02],\n",
       "       [2.15372915e-02],\n",
       "       [8.52641608e-03],\n",
       "       [3.46928663e-02],\n",
       "       [1.19412216e-01],\n",
       "       [1.57424429e-01],\n",
       "       [2.90323473e-01],\n",
       "       [1.75724041e-01],\n",
       "       [4.69525764e-01],\n",
       "       [4.18007224e-02],\n",
       "       [7.71090232e-01],\n",
       "       [7.50080261e-04],\n",
       "       [4.49526682e-01],\n",
       "       [1.74143298e-01],\n",
       "       [3.12134324e-01],\n",
       "       [1.97084925e-02],\n",
       "       [3.92442000e-02],\n",
       "       [6.41191864e-01],\n",
       "       [9.37530479e-01],\n",
       "       [9.82347155e-02],\n",
       "       [4.79310604e-01],\n",
       "       [7.68057946e-01],\n",
       "       [8.00321082e-01],\n",
       "       [7.23251789e-03],\n",
       "       [1.52527609e-03],\n",
       "       [2.88423714e-02],\n",
       "       [7.71134256e-01],\n",
       "       [9.67209972e-03],\n",
       "       [1.77331632e-01],\n",
       "       [9.17552352e-01],\n",
       "       [2.84265221e-01],\n",
       "       [4.78693941e-01],\n",
       "       [9.95501134e-02],\n",
       "       [4.71283524e-01],\n",
       "       [6.96600012e-01],\n",
       "       [3.34461088e-04],\n",
       "       [5.62716493e-01]])"
      ]
     },
     "execution_count": 13,
     "metadata": {},
     "output_type": "execute_result"
    }
   ],
   "source": [
    "X\n"
   ]
  },
  {
   "cell_type": "code",
   "execution_count": 14,
   "metadata": {},
   "outputs": [
    {
     "data": {
      "text/plain": [
       "array([ 7.24998644,  7.70041705, -0.12288892,  3.83970623,  1.50418461,\n",
       "        1.31600899,  1.88404109,  5.0456151 ,  5.42819209,  6.59281674,\n",
       "        5.70193919,  8.23148858,  1.8305394 ,  9.086429  ,  1.73425177,\n",
       "        8.92229631,  6.16043712,  6.68597765,  0.8992155 ,  4.51082693,\n",
       "        8.70162943,  8.39917725,  5.14639037, 10.37406543,  8.96816213,\n",
       "        9.50648826,  0.9746409 , -0.20201375,  1.09605993,  8.50272859,\n",
       "        0.67301646,  6.98083184,  9.856233  ,  8.32873282,  8.55755817,\n",
       "        5.87386864,  7.49515774,  9.997533  ,  0.54626444,  8.1929663 ])"
      ]
     },
     "execution_count": 14,
     "metadata": {},
     "output_type": "execute_result"
    }
   ],
   "source": [
    "y"
   ]
  },
  {
   "cell_type": "code",
   "execution_count": 37,
   "metadata": {},
   "outputs": [
    {
     "data": {
      "text/plain": [
       "<matplotlib.legend.Legend at 0x7fb63cf36b10>"
      ]
     },
     "execution_count": 37,
     "metadata": {},
     "output_type": "execute_result"
    },
    {
     "data": {
      "image/png": "[encoded data removed]",
      "text/plain": [
       "<Figure size 432x288 with 1 Axes>"
      ]
     },
     "metadata": {},
     "output_type": "display_data"
    }
   ],
   "source": [
    "import matplotlib.pyplot as plt\n",
    "import seaborn; seaborn.set()\n",
    "\n",
    "X_test = np.linspace(-0.1, 1.1, 500)[:, None]\n",
    "plt.scatter(X.ravel(),y, color=\"black\")\n",
    "axis = plt.axis()\n",
    "for degree in [1, 3, 5]:\n",
    "    y_test = polinomialRegression(degree).fit(X, y).predict(X_test)\n",
    "    plt.plot(X_test.ravel(), y_test, label=\"degree={0}\".format(degree))\n",
    "plt.xlim(-0.1, 1.0)\n",
    "plt.ylim(-2, 12)\n",
    "plt.legend(loc=\"best\")"
   ]
  },
  {
   "cell_type": "code",
   "execution_count": 20,
   "metadata": {},
   "outputs": [
    {
     "data": {
      "text/plain": [
       "(500,)"
      ]
     },
     "execution_count": 20,
     "metadata": {},
     "output_type": "execute_result"
    }
   ],
   "source": [
    "y_test.shape"
   ]
  },
  {
   "cell_type": "code",
   "execution_count": null,
   "metadata": {},
   "outputs": [],
   "source": []
  }
 ],
 "metadata": {
  "kernelspec": {
   "display_name": "Python 3",
   "language": "python",
   "name": "python3"
  },
  "language_info": {
   "codemirror_mode": {
    "name": "ipython",
    "version": 3
   },
   "file_extension": ".py",
   "mimetype": "text/x-python",
   "name": "python",
   "nbconvert_exporter": "python",
   "pygments_lexer": "ipython3",
   "version": "3.7.4"
  }
 },
 "nbformat": 4,
 "nbformat_minor": 2
}
