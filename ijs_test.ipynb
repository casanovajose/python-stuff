{
 "cells": [
  {
   "cell_type": "code",
   "execution_count": 1,
   "metadata": {},
   "outputs": [
    {
     "name": "stdout",
     "output_type": "stream",
     "text": [
      "Leonardo was an Italian polymath \n",
      "    interested in many topics such as\n",
      "    arts, architecture, science, music, mathematics.He was born\n",
      "    in 1452 in Florence.\n"
     ]
    }
   ],
   "source": [
    "const name = \"Leonardo\";\n",
    "const interests = [\"arts\", \"architecture\", \"science\", \"music\", \"mathematics\"];\n",
    "const birth = { year : 1452, place : 'Florence' };\n",
    "const text = `${name} was an Italian polymath \n",
    "    interested in many topics such as\n",
    "    ${interests.join(', ')}.He was born\n",
    "    in ${birth.year} in ${birth.place}.`;\n",
    "console.log(text);"
   ]
  },
  {
   "cell_type": "code",
   "execution_count": 3,
   "metadata": {},
   "outputs": [],
   "source": [
    "let a = 9;"
   ]
  },
  {
   "cell_type": "code",
   "execution_count": 4,
   "metadata": {},
   "outputs": [
    {
     "ename": "ReferenceError",
     "evalue": "fcnt1 is not defined",
     "output_type": "error",
     "traceback": [
      "evalmachine.<anonymous>:1",
      "fcnt1()",
      "^",
      "",
      "ReferenceError: fcnt1 is not defined",
      "    at evalmachine.<anonymous>:1:1",
      "    at ContextifyScript.Script.runInThisContext (vm.js:50:33)",
      "    at Object.runInThisContext (vm.js:139:38)",
      "    at run ([eval]:1054:15)",
      "    at onRunRequest ([eval]:888:18)",
      "    at onMessage ([eval]:848:13)",
      "    at emitTwo (events.js:126:13)",
      "    at process.emit (events.js:214:7)",
      "    at emit (internal/child_process.js:762:12)",
      "    at _combinedTickCallback (internal/process/next_tick.js:142:11)"
     ]
    }
   ],
   "source": [
    "fcnt1()\n"
   ]
  },
  {
   "cell_type": "code",
   "execution_count": null,
   "metadata": {},
   "outputs": [],
   "source": []
  }
 ],
 "metadata": {
  "kernelspec": {
   "display_name": "Javascript (Node.js)",
   "language": "javascript",
   "name": "javascript"
  },
  "language_info": {
   "file_extension": ".js",
   "mimetype": "application/javascript",
   "name": "javascript",
   "version": "8.12.0"
  }
 },
 "nbformat": 4,
 "nbformat_minor": 2
}
